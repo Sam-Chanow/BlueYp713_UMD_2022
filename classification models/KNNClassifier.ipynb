{
 "cells": [
  {
   "cell_type": "code",
   "execution_count": 16,
   "id": "68c30462",
   "metadata": {},
   "outputs": [
    {
     "data": {
      "text/html": [
       "<div>\n",
       "<style scoped>\n",
       "    .dataframe tbody tr th:only-of-type {\n",
       "        vertical-align: middle;\n",
       "    }\n",
       "\n",
       "    .dataframe tbody tr th {\n",
       "        vertical-align: top;\n",
       "    }\n",
       "\n",
       "    .dataframe thead th {\n",
       "        text-align: right;\n",
       "    }\n",
       "</style>\n",
       "<table border=\"1\" class=\"dataframe\">\n",
       "  <thead>\n",
       "    <tr style=\"text-align: right;\">\n",
       "      <th></th>\n",
       "      <th>location</th>\n",
       "      <th>month</th>\n",
       "      <th>actor</th>\n",
       "      <th>event_sub_type</th>\n",
       "    </tr>\n",
       "  </thead>\n",
       "  <tbody>\n",
       "    <tr>\n",
       "      <th>0</th>\n",
       "      <td>1.097</td>\n",
       "      <td>1</td>\n",
       "      <td>1</td>\n",
       "      <td>1</td>\n",
       "    </tr>\n",
       "    <tr>\n",
       "      <th>1</th>\n",
       "      <td>1.125</td>\n",
       "      <td>1</td>\n",
       "      <td>2</td>\n",
       "      <td>1</td>\n",
       "    </tr>\n",
       "    <tr>\n",
       "      <th>2</th>\n",
       "      <td>1.073</td>\n",
       "      <td>1</td>\n",
       "      <td>3</td>\n",
       "      <td>1</td>\n",
       "    </tr>\n",
       "    <tr>\n",
       "      <th>3</th>\n",
       "      <td>1.101</td>\n",
       "      <td>1</td>\n",
       "      <td>4</td>\n",
       "      <td>1</td>\n",
       "    </tr>\n",
       "    <tr>\n",
       "      <th>4</th>\n",
       "      <td>1.097</td>\n",
       "      <td>1</td>\n",
       "      <td>5</td>\n",
       "      <td>1</td>\n",
       "    </tr>\n",
       "  </tbody>\n",
       "</table>\n",
       "</div>"
      ],
      "text/plain": [
       "   location  month  actor  event_sub_type\n",
       "0     1.097      1      1               1\n",
       "1     1.125      1      2               1\n",
       "2     1.073      1      3               1\n",
       "3     1.101      1      4               1\n",
       "4     1.097      1      5               1"
      ]
     },
     "execution_count": 16,
     "metadata": {},
     "output_type": "execute_result"
    }
   ],
   "source": [
    "import pandas as pd\n",
    "import matplotlib.pyplot as plt\n",
    "import numpy as np\n",
    "import math \n",
    "import random as rand\n",
    "from scipy.sparse import coo_matrix, csr_matrix, csc_matrix, vstack, find\n",
    "from sklearn.preprocessing import StandardScaler\n",
    "from sklearn.decomposition import TruncatedSVD\n",
    "from sklearn.decomposition import PCA, IncrementalPCA\n",
    "from sklearn.neighbors import NearestNeighbors\n",
    "from sklearn.model_selection import train_test_split\n",
    "from sklearn.metrics import mean_squared_error\n",
    "\n",
    "df=pd.read_csv('~/UMDDataChallenge/BlueYp713_UMD_2022/matrix_completion/data/matrix_dataset.csv', low_memory=False)\n",
    "df = df.dropna()\n",
    "df = df.drop(columns=['Unnamed: 0'])\n",
    "df.head()"
   ]
  },
  {
   "cell_type": "code",
   "execution_count": 17,
   "id": "c1a3e48e",
   "metadata": {},
   "outputs": [
    {
     "data": {
      "text/plain": [
       "Index(['location', 'month', 'actor', 'event_sub_type'], dtype='object')"
      ]
     },
     "execution_count": 17,
     "metadata": {},
     "output_type": "execute_result"
    }
   ],
   "source": [
    "df.columns"
   ]
  },
  {
   "cell_type": "code",
   "execution_count": 18,
   "id": "b7abfe03",
   "metadata": {},
   "outputs": [],
   "source": [
    "location = np.unique(np.array(df['location'].values))\n",
    "month = np.unique(np.array(df['month'].values))\n",
    "actor = np.unique(np.array(df['actor'].values))\n",
    "subevent = np.unique(np.array(df['event_sub_type'].values))"
   ]
  },
  {
   "cell_type": "code",
   "execution_count": 19,
   "id": "ca37bd9f",
   "metadata": {},
   "outputs": [
    {
     "name": "stdout",
     "output_type": "stream",
     "text": [
      "[ 1.003  1.007  1.015 ... 56.035 56.037 56.039]\n",
      "[ 1  2  3  4  5  6  7  8  9 10 11 12]\n",
      "[   1    2    3 ... 3962 3963 3964]\n",
      "[ 1  2  3  4  5  6  7  8  9 10 11 12 13 14 15 16]\n"
     ]
    }
   ],
   "source": [
    "print(location)\n",
    "print(month)\n",
    "print(actor)\n",
    "print(subevent)"
   ]
  },
  {
   "cell_type": "code",
   "execution_count": 20,
   "id": "d3a1a2e3",
   "metadata": {},
   "outputs": [
    {
     "data": {
      "text/plain": [
       "event_sub_type\n",
       "1                 992\n",
       "2                  48\n",
       "10                 45\n",
       "3                  27\n",
       "4                   9\n",
       "7                   9\n",
       "9                   8\n",
       "6                   2\n",
       "5                   1\n",
       "12                  1\n",
       "14                  1\n",
       "dtype: int64"
      ]
     },
     "execution_count": 20,
     "metadata": {},
     "output_type": "execute_result"
    }
   ],
   "source": [
    "df.loc[df['location'] == 6.037, ['event_sub_type']].value_counts()"
   ]
  },
  {
   "cell_type": "code",
   "execution_count": 21,
   "id": "13ebb688",
   "metadata": {},
   "outputs": [
    {
     "data": {
      "text/plain": [
       "location\n",
       "11.001      49\n",
       "6.037       48\n",
       "36.061      47\n",
       "41.051      33\n",
       "21.111      20\n",
       "            ..\n",
       "12.125       1\n",
       "12.109       1\n",
       "12.099       1\n",
       "36.113       1\n",
       "56.001       1\n",
       "Length: 295, dtype: int64"
      ]
     },
     "execution_count": 21,
     "metadata": {},
     "output_type": "execute_result"
    }
   ],
   "source": [
    "df.loc[df['event_sub_type'] == 2, ['location']].value_counts()"
   ]
  },
  {
   "cell_type": "code",
   "execution_count": 22,
   "id": "1e1583bb",
   "metadata": {},
   "outputs": [
    {
     "data": {
      "text/plain": [
       "1     33859\n",
       "2      1041\n",
       "3       949\n",
       "10      945\n",
       "6       439\n",
       "7       173\n",
       "4       143\n",
       "9        82\n",
       "8        62\n",
       "5        38\n",
       "14       15\n",
       "13       10\n",
       "11        9\n",
       "12        4\n",
       "15        1\n",
       "16        1\n",
       "Name: event_sub_type, dtype: int64"
      ]
     },
     "execution_count": 22,
     "metadata": {},
     "output_type": "execute_result"
    }
   ],
   "source": [
    "df['event_sub_type'].value_counts()"
   ]
  },
  {
   "cell_type": "code",
   "execution_count": 23,
   "id": "0d0d7094",
   "metadata": {},
   "outputs": [
    {
     "name": "stdout",
     "output_type": "stream",
     "text": [
      "location          0\n",
      "month             0\n",
      "actor             0\n",
      "event_sub_type    0\n",
      "dtype: int64\n"
     ]
    }
   ],
   "source": [
    "dfarray = df.to_numpy()\n",
    "print(df.isnull().sum())\n",
    "#dfarray[~np.isnan(dfarray).any(axis=1)]"
   ]
  },
  {
   "cell_type": "code",
   "execution_count": 24,
   "id": "d508ddae",
   "metadata": {},
   "outputs": [
    {
     "name": "stdout",
     "output_type": "stream",
     "text": [
      "[[1.0970e+00 1.0000e+00 1.0000e+00 1.0000e+00]\n",
      " [1.1250e+00 1.0000e+00 2.0000e+00 1.0000e+00]\n",
      " [1.0730e+00 1.0000e+00 3.0000e+00 1.0000e+00]\n",
      " ...\n",
      " [5.6021e+01 1.0000e+00 7.7000e+02 1.0000e+00]\n",
      " [5.6029e+01 1.0000e+00 1.8000e+01 1.0000e+00]\n",
      " [5.6037e+01 1.0000e+00 2.5730e+03 1.0000e+00]]\n"
     ]
    }
   ],
   "source": [
    "print(dfarray)"
   ]
  },
  {
   "cell_type": "code",
   "execution_count": 25,
   "id": "5a7889a9",
   "metadata": {},
   "outputs": [],
   "source": [
    "inputval = []\n",
    "target = []\n",
    "for i in range(len(dfarray)):\n",
    "    inputval.append(list(dfarray[i][0:3]))\n",
    "    target.append(dfarray[i][3])"
   ]
  },
  {
   "cell_type": "code",
   "execution_count": 28,
   "id": "5d316111",
   "metadata": {},
   "outputs": [
    {
     "name": "stdout",
     "output_type": "stream",
     "text": [
      "[1.]\n",
      "[1.]\n",
      "[1.]\n",
      "[1.]\n",
      "[1.]\n",
      "[1.]\n",
      "[1.]\n",
      "[1.]\n",
      "[1.]\n",
      "[1.]\n",
      "[1.]\n",
      "[1.]\n"
     ]
    }
   ],
   "source": [
    "import matplotlib.pyplot as plt\n",
    "import pandas as pd\n",
    "from sklearn import datasets, neighbors\n",
    "from mlxtend.plotting import plot_decision_regions\n",
    "from sklearn.neighbors import KNeighborsClassifier\n",
    "import random \n",
    "\n",
    "model = KNeighborsClassifier(n_neighbors=10)\n",
    "\n",
    "# Train the model using the training sets\n",
    "model.fit(inputval,target)\n",
    "\n",
    "#Predict Output\n",
    "predicted= model.predict([[6.037,7,1]]) \n",
    "print(predicted)\n",
    "predicted= model.predict([[11.001,9,5]]) \n",
    "print(predicted)\n",
    "\n",
    "for i in range(10):\n",
    "    l = random.choice(location)\n",
    "    m = random.choice(month)\n",
    "    a = random.choice(actor)\n",
    "    predicted= model.predict([[l,m,a]]) \n",
    "    print(predicted)"
   ]
  },
  {
   "cell_type": "code",
   "execution_count": null,
   "id": "5394b902",
   "metadata": {},
   "outputs": [],
   "source": [
    "def knn_comparison(data, k):\n",
    " x = data[[‘X’,’Y’]].values\n",
    " y = data[‘class’].astype(int).values\n",
    " clf = neighbors.KNeighborsClassifier(n_neighbors=k)\n",
    " clf.fit(x, y)\n",
    "# Plotting decision region\n",
    " plot_decision_regions(x, y, clf=clf, legend=2)\n",
    "# Adding axes annotations\n",
    " plt.xlabel(‘X’)\n",
    " plt.ylabel(‘Y’)\n",
    " plt.title(‘Knn with K=’+ str(k))\n",
    " plt.show()"
   ]
  }
 ],
 "metadata": {
  "kernelspec": {
   "display_name": "Python 3 (ipykernel)",
   "language": "python",
   "name": "python3"
  },
  "language_info": {
   "codemirror_mode": {
    "name": "ipython",
    "version": 3
   },
   "file_extension": ".py",
   "mimetype": "text/x-python",
   "name": "python",
   "nbconvert_exporter": "python",
   "pygments_lexer": "ipython3",
   "version": "3.9.7"
  }
 },
 "nbformat": 4,
 "nbformat_minor": 5
}
